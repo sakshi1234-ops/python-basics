{
  "nbformat": 4,
  "nbformat_minor": 0,
  "metadata": {
    "colab": {
      "provenance": []
    },
    "kernelspec": {
      "name": "python3",
      "display_name": "Python 3"
    },
    "language_info": {
      "name": "python"
    }
  },
  "cells": [
    {
      "cell_type": "code",
      "execution_count": null,
      "metadata": {
        "id": "TuX0jaO7YSU7"
      },
      "outputs": [],
      "source": []
    },
    {
      "cell_type": "markdown",
      "source": [
        "# PYTHON BASICS\n"
      ],
      "metadata": {
        "id": "sjjPbQFzYhpE"
      }
    },
    {
      "cell_type": "markdown",
      "source": [
        "QUESTION 1  What is python and why it is popular?\n",
        "\n",
        "         -  Python is a high level programming language. which was created by \"guido van rossum\" in 1991.\n",
        "          \n",
        "         -  It is popular because of its simplicity and readability and also due to its extensive libraries like numpy seaborn pandas etc which makes it powerful and flexible.\n",
        "\n",
        "\n",
        "QUESTION 2  What is an interpreter in python?\n",
        "         \n",
        "         -  An interpreter in python is a programme that reads executes and translates python code line by line into machine readable instruction.because it translates the code line by line so it makes it easier to test and debug.\n",
        "\n",
        "\n",
        "QUESTION 3  What are predefined keywords in python?\n",
        "        \n",
        "         -  There are some wprds reserved in python that have special meaning and functionality. the words are known as pre defined keywords. for example: true false none etc.                                         \n",
        "\n",
        "QUESTION 4  Can keywords be used as vriable names?\n",
        "         \n",
        "         -  No, keywords cannot be used as variables name because they are a part of python syntax. if u use a keyword as a variable then it will throw an error.\n",
        "\n",
        "QUESTION 5  What is mutability in python?\n",
        "         \n",
        "         -  Mutability in python is refers to the objects ability to modify itself after creation.\n",
        "         -  There are two categories:\n",
        "             \n",
        "            1) MUTABLE OBJECTS : objects can modify itself after creation.\n",
        "\n",
        "            2) IMMUATABLE OBJECTS : objects cannot modify itself after creation.\n",
        "\n",
        "QUESTION 6  Why are lists mutable but tupules are immutable?\n",
        "         \n",
        "         -  Lists are mutable because they are designed for scenarios where you need a collection of data that may change over time.\n",
        "\n",
        "         -  tuples are immutable because they are designed to represent fixed collection of item .where the content should remain constant.\n",
        "\n",
        "QUESTION 7  What is a difference between \"==\" and is operator in python?\n",
        "\n",
        "         -  \"==\" and is operator in python are used for different purposes like:\n",
        "\n",
        "         1)  \"==\" operator compares the values of two objects to check if they are equal or not.it always gives a boolean value like true or false.\n",
        "\n",
        "         2)  \"is\" operator compares the identity of two objects to check if they refers to the same objects in memory block or not.it is also return boolean value.\n",
        "\n",
        "QUESTION 8  What are logical operator in python?\n",
        "         \n",
        "         -  \"AND\" \"OR\" \"NOT\" are the logical operators in python. they are used to combine conditional statements(for comparing them)and evaluate logical expression. they always. they always returns a boolean value true or false.\n",
        "\n",
        "QUESTION 9  What is type casting in python?\n",
        "        \n",
        "        -   Type casting in python refers to changing a datatype to another datatype.\n",
        "\n",
        "        -   EXAMPLE: x = 5 so if u check the type(x) it will give you int datatype but we can change it to float datatype through flo(x) so if u check now the type(x) it will give you a flo datatype.\n",
        "\n",
        "QUESTION 10  What is the difference between implicit and explicit type casting?\n",
        "\n",
        "         -   There are two type of typecasting in python one is implicit and other one is explicit typecasting.\n",
        "\n",
        "         -   In implicit typecasting python automatically converts one datatype to another when its safe to do so.\n",
        "             EXAMPLE:  X = 10        #TYPE INT\n",
        "                       Y = 10.5      #TYPE FLO\n",
        "                       SUM = X+Y\n",
        "                       PRINT(SUM)\n",
        "                       = 20.5\n",
        "                       TYPE(SUM)\n",
        "                       TYPE<FLO>     #SO PYTHON AUTOMATICALLY CHANGE THE D.T\n",
        "         \n",
        "         -   In explicit typecasting datatype is converted manually through functions like str() int() flo() list() etc.\n",
        "\n",
        "QUESTION 11   What is the purpose of conditional statements in python?\n",
        "          \n",
        "          -   C.S in python are used to execute code based on some condition.\n",
        "\n",
        "          -   The main C.S are:\n",
        "              1) IF : executes a block of code if condition is true.\n",
        "              2) IF-ELSE : if condition is true it executes the block of code but if false so it executes the else code.\n",
        "              3) IF-ELIF-ELSE : checks multiple conditon in sequence.\n",
        "              4) NESTED IF STATEMENT : can write a if statement inside another if statement.\n",
        "\n",
        "QUESTION 12   How does the elif statement works?\n",
        "          \n",
        "          -   elif statement checks multiple conditons in a sequence and if one condition is true than that code is executed and then it will skips the rest.\n",
        "\n",
        "\n",
        "QUESTION 13   What is the differnce between a for and a while loop?\n",
        "          \n",
        "          -   The primary differnce between them is how they are used and when they are appropriate.there are different scenarios where a for loop is more preferable and in condition where while loop is more preferable then a for loop.\n",
        "              \n",
        "              1) FOR LOOP : A for loop is used to iterate over a sequence.(like a list,string,tuple or range)\n",
        "              2) WHILE LOOP : A while loop runs as long as a specified condition is true.\n",
        "\n",
        "QUESTION 14   Describe a scenario where a while loop is more suitable than a for loop?\n",
        "          \n",
        "          -   A while loop is more suitable than a for loop when you donot know how many times you need to iterate.\n",
        "\n",
        "          -   SCENARIO : When you want to keep prompting a user for input until they provide a valid response.\n",
        "\n",
        "\n",
        "\n",
        "\n",
        "\n"
      ],
      "metadata": {
        "id": "AmIBlSbFY0T6"
      }
    },
    {
      "cell_type": "code",
      "source": [
        "#PRACTICLE QUESTIONS\n",
        "\n",
        "# Q 1  Write a python programe to print \"Hello,World!\"\n",
        "\n",
        "print(\"Hello,world!\")"
      ],
      "metadata": {
        "colab": {
          "base_uri": "https://localhost:8080/"
        },
        "id": "wiOxL9bQxEQo",
        "outputId": "68729ac5-2722-483f-a782-9da2525884d6"
      },
      "execution_count": 1,
      "outputs": [
        {
          "output_type": "stream",
          "name": "stdout",
          "text": [
            "Hello,world!\n"
          ]
        }
      ]
    },
    {
      "cell_type": "code",
      "source": [
        "# Q 2  Write a python programme that displays your name and age.\n",
        "\n",
        "name = \"sakshi\"\n",
        "age = 20\n",
        "print(\"my name is:\",name)\n",
        "print(\"my age is:\",age)"
      ],
      "metadata": {
        "colab": {
          "base_uri": "https://localhost:8080/"
        },
        "id": "6H36RQnqyRhv",
        "outputId": "c0cc43c5-4935-4a2d-81e9-1ac3039a841f"
      },
      "execution_count": 2,
      "outputs": [
        {
          "output_type": "stream",
          "name": "stdout",
          "text": [
            "my name is: sakshi\n",
            "my age is: 20\n"
          ]
        }
      ]
    },
    {
      "cell_type": "code",
      "source": [
        "# Q 3  Write code to print all the pre defined words in python using keyword library.\n",
        "\n",
        "import keyword\n",
        "print(keyword.kwlist)\n"
      ],
      "metadata": {
        "colab": {
          "base_uri": "https://localhost:8080/"
        },
        "id": "PKgoVoccyRzN",
        "outputId": "cf87db21-38c2-4f6e-b25b-fd3b5c18f500"
      },
      "execution_count": 38,
      "outputs": [
        {
          "output_type": "stream",
          "name": "stdout",
          "text": [
            "['False', 'None', 'True', 'and', 'as', 'assert', 'async', 'await', 'break', 'class', 'continue', 'def', 'del', 'elif', 'else', 'except', 'finally', 'for', 'from', 'global', 'if', 'import', 'in', 'is', 'lambda', 'nonlocal', 'not', 'or', 'pass', 'raise', 'return', 'try', 'while', 'with', 'yield']\n"
          ]
        }
      ]
    },
    {
      "cell_type": "code",
      "source": [
        "# Q 4  Write a programme to check if a given word is a python keyword.\n",
        "\n",
        "word = input(\"entre a word:\")\n",
        "import keyword\n",
        "x = keyword.kwlist\n",
        "if word in x:\n",
        "  print(\"the word is a python keyword\")\n",
        "else:\n",
        "  print(\"the word is not a python keyword\")"
      ],
      "metadata": {
        "colab": {
          "base_uri": "https://localhost:8080/"
        },
        "id": "YjwAG38HySBO",
        "outputId": "e98f3142-fb5c-479a-9517-09240fccaa80"
      },
      "execution_count": 41,
      "outputs": [
        {
          "output_type": "stream",
          "name": "stdout",
          "text": [
            "entre a word:if\n",
            "the word is a python keyword\n"
          ]
        }
      ]
    },
    {
      "cell_type": "code",
      "source": [
        "# Q 5 Create a list and tuple in python,and demonstrate how attempting to change an element works differntly for each.\n",
        "\n",
        "list_1 = [1,2,3,4,5]                 #LISTS ARE MUTABLE\n",
        "list_1[0] = 20\n",
        "print(list_1)\n",
        "\n",
        "tuple_1 = (1,2,3,4,5)                #TUPLE ARE IMMUTABLE THATS WHY IT IS SHOWING ERROR\n",
        "tuple_1[0] = 20\n",
        "print(tuple_1)"
      ],
      "metadata": {
        "colab": {
          "base_uri": "https://localhost:8080/",
          "height": 211
        },
        "id": "SGbuoFbdySHu",
        "outputId": "bc5326ca-7c26-4921-88db-3a6e759f3c09"
      },
      "execution_count": 4,
      "outputs": [
        {
          "output_type": "stream",
          "name": "stdout",
          "text": [
            "[20, 2, 3, 4, 5]\n"
          ]
        },
        {
          "output_type": "error",
          "ename": "TypeError",
          "evalue": "'tuple' object does not support item assignment",
          "traceback": [
            "\u001b[0;31m---------------------------------------------------------------------------\u001b[0m",
            "\u001b[0;31mTypeError\u001b[0m                                 Traceback (most recent call last)",
            "\u001b[0;32m<ipython-input-4-f79c7d5dabc6>\u001b[0m in \u001b[0;36m<cell line: 8>\u001b[0;34m()\u001b[0m\n\u001b[1;32m      6\u001b[0m \u001b[0;34m\u001b[0m\u001b[0m\n\u001b[1;32m      7\u001b[0m \u001b[0mtuple_1\u001b[0m \u001b[0;34m=\u001b[0m \u001b[0;34m(\u001b[0m\u001b[0;36m1\u001b[0m\u001b[0;34m,\u001b[0m\u001b[0;36m2\u001b[0m\u001b[0;34m,\u001b[0m\u001b[0;36m3\u001b[0m\u001b[0;34m,\u001b[0m\u001b[0;36m4\u001b[0m\u001b[0;34m,\u001b[0m\u001b[0;36m5\u001b[0m\u001b[0;34m)\u001b[0m\u001b[0;34m\u001b[0m\u001b[0;34m\u001b[0m\u001b[0m\n\u001b[0;32m----> 8\u001b[0;31m \u001b[0mtuple_1\u001b[0m\u001b[0;34m[\u001b[0m\u001b[0;36m0\u001b[0m\u001b[0;34m]\u001b[0m \u001b[0;34m=\u001b[0m \u001b[0;36m20\u001b[0m\u001b[0;34m\u001b[0m\u001b[0;34m\u001b[0m\u001b[0m\n\u001b[0m\u001b[1;32m      9\u001b[0m \u001b[0mprint\u001b[0m\u001b[0;34m(\u001b[0m\u001b[0mtuple_1\u001b[0m\u001b[0;34m)\u001b[0m\u001b[0;34m\u001b[0m\u001b[0;34m\u001b[0m\u001b[0m\n",
            "\u001b[0;31mTypeError\u001b[0m: 'tuple' object does not support item assignment"
          ]
        }
      ]
    },
    {
      "cell_type": "code",
      "source": [
        "# Q 6 Write a function to demonstrate the behaviour of mutable and immutable arguments."
      ],
      "metadata": {
        "id": "TX5b3pnF2Q4K"
      },
      "execution_count": null,
      "outputs": []
    },
    {
      "cell_type": "code",
      "source": [
        "# Q 7 Write a programme to demonstrate the use of logical operator.\n",
        "\n",
        "x = int(input(\"enter the number:\"))\n",
        "y = int(input(\"enter the number:\"))\n",
        "\n",
        "if (x>0 and y>0):                          #if we want to check both conditions are true or not than we use \"and\" operator\n",
        "  print(\"both the number are positive\")\n",
        "else:\n",
        "  print(\"both the number are not positive\")"
      ],
      "metadata": {
        "colab": {
          "base_uri": "https://localhost:8080/"
        },
        "id": "F8z-mDMI2RG0",
        "outputId": "bff75d05-cfa9-4459-e084-cd5b8eb53aaf"
      },
      "execution_count": 5,
      "outputs": [
        {
          "output_type": "stream",
          "name": "stdout",
          "text": [
            "enter the number:4\n",
            "enter the number:9\n",
            "both the number are positive\n"
          ]
        }
      ]
    },
    {
      "cell_type": "code",
      "source": [
        "x = int(input(\"enter the number:\"))\n",
        "y = int(input(\"enter the number:\"))\n",
        "\n",
        "if (x>0 or y>0):\n",
        "  print(\"both the no. or just one no. is positive\")\n",
        "else:\n",
        "  print(\"both the no. are not positive\")                          #if we want to check any one condition is true or not than we use \"or\" operator"
      ],
      "metadata": {
        "colab": {
          "base_uri": "https://localhost:8080/"
        },
        "id": "T7Q3O6Jl2RMF",
        "outputId": "b0c53eca-cea5-4072-e0f8-36d4d738a2a8"
      },
      "execution_count": 6,
      "outputs": [
        {
          "output_type": "stream",
          "name": "stdout",
          "text": [
            "enter the number:4\n",
            "enter the number:-4\n",
            "both the no. or just one no. is positive\n"
          ]
        }
      ]
    },
    {
      "cell_type": "code",
      "source": [
        "x = int(input(\"enter the number:\"))                #not operator returns opposite of the condition.\n",
        "if not (x>0):\n",
        "  print(\"the number is not positive\")\n",
        "else:\n",
        "  print(\"the number is positive\")"
      ],
      "metadata": {
        "colab": {
          "base_uri": "https://localhost:8080/"
        },
        "id": "FY3sxhtp2RQE",
        "outputId": "08cc323b-a826-4257-ea94-ec14f8c56a60"
      },
      "execution_count": 7,
      "outputs": [
        {
          "output_type": "stream",
          "name": "stdout",
          "text": [
            "enter the number:5\n",
            "the number is positive\n"
          ]
        }
      ]
    },
    {
      "cell_type": "code",
      "source": [
        "# Q 8  Write a python programme to converts the user input from string to integer float and boolean type.\n",
        "\n",
        "x = \"45\"\n",
        "type(x)\n",
        "\n",
        "\n"
      ],
      "metadata": {
        "colab": {
          "base_uri": "https://localhost:8080/"
        },
        "id": "OZoTV_N72RUt",
        "outputId": "007453e7-a243-4197-c7bd-a31ce2663c0c"
      },
      "execution_count": 22,
      "outputs": [
        {
          "output_type": "execute_result",
          "data": {
            "text/plain": [
              "str"
            ]
          },
          "metadata": {},
          "execution_count": 22
        }
      ]
    },
    {
      "cell_type": "code",
      "source": [
        "type(float(x))"
      ],
      "metadata": {
        "colab": {
          "base_uri": "https://localhost:8080/"
        },
        "id": "U61K_tkP2RZp",
        "outputId": "6930f438-524f-46e9-9068-f0294bf9cc98"
      },
      "execution_count": 20,
      "outputs": [
        {
          "output_type": "execute_result",
          "data": {
            "text/plain": [
              "float"
            ]
          },
          "metadata": {},
          "execution_count": 20
        }
      ]
    },
    {
      "cell_type": "code",
      "source": [
        "type(bool(x))"
      ],
      "metadata": {
        "colab": {
          "base_uri": "https://localhost:8080/"
        },
        "id": "wqJPqI6a9v0v",
        "outputId": "f5fa7969-e392-404e-c6b2-b472f483e540"
      },
      "execution_count": 21,
      "outputs": [
        {
          "output_type": "execute_result",
          "data": {
            "text/plain": [
              "bool"
            ]
          },
          "metadata": {},
          "execution_count": 21
        }
      ]
    },
    {
      "cell_type": "code",
      "source": [
        "type(int(x))"
      ],
      "metadata": {
        "colab": {
          "base_uri": "https://localhost:8080/"
        },
        "id": "v-PcoRog9v5x",
        "outputId": "6f3a14d1-2ee4-412f-d237-efa613bffb84"
      },
      "execution_count": 23,
      "outputs": [
        {
          "output_type": "execute_result",
          "data": {
            "text/plain": [
              "int"
            ]
          },
          "metadata": {},
          "execution_count": 23
        }
      ]
    },
    {
      "cell_type": "code",
      "source": [
        "# Q 9 Write code to demonstrate type casting with list element.\n",
        "\n",
        "list_1 = [\"1\",\"2\",\"3\",\"4\",\"5\"]\n",
        "print(list_1)\n",
        "type(list_1)\n",
        "\n",
        "tuple_1 = tuple(list_1)         #SO HERE TYPE OF LIST_1 IS TYPECASTED FROM \"LIST\" TO \"TUPLE\".\n",
        "print(tuple_1)\n",
        "type(tuple_1)"
      ],
      "metadata": {
        "colab": {
          "base_uri": "https://localhost:8080/"
        },
        "id": "WDZGH9es9v94",
        "outputId": "15e9e406-a578-4d8c-aa79-1634065634b0"
      },
      "execution_count": 27,
      "outputs": [
        {
          "output_type": "stream",
          "name": "stdout",
          "text": [
            "['1', '2', '3', '4', '5']\n",
            "('1', '2', '3', '4', '5')\n"
          ]
        },
        {
          "output_type": "execute_result",
          "data": {
            "text/plain": [
              "tuple"
            ]
          },
          "metadata": {},
          "execution_count": 27
        }
      ]
    },
    {
      "cell_type": "code",
      "source": [
        "# Q 10 Write a programme to check if a no. is positve negative and zero.\n",
        "\n",
        "x = int(input(\"enter the number:\"))\n",
        "if (x>0):\n",
        "  print(\"the number is positive\")\n",
        "elif (x<0):\n",
        "  print(\"the number is negative\")\n",
        "else:\n",
        "  print(\"the number is zero\")"
      ],
      "metadata": {
        "colab": {
          "base_uri": "https://localhost:8080/"
        },
        "id": "2FEEylSA9wBi",
        "outputId": "5f423ef4-3dd2-4772-be88-73dd5748b1da"
      },
      "execution_count": 28,
      "outputs": [
        {
          "output_type": "stream",
          "name": "stdout",
          "text": [
            "enter the number:5\n",
            "the number is positive\n"
          ]
        }
      ]
    },
    {
      "cell_type": "code",
      "source": [
        "# Q 11 Write a for loop to print no. from 1 to 10.\n",
        "\n",
        "for i in range(1,11):\n",
        "  print(i,end = \",\")"
      ],
      "metadata": {
        "colab": {
          "base_uri": "https://localhost:8080/"
        },
        "id": "DlVm8fl89wFa",
        "outputId": "ce1e4433-7a9a-4bd3-f4a3-8c6c1feab46b"
      },
      "execution_count": 30,
      "outputs": [
        {
          "output_type": "stream",
          "name": "stdout",
          "text": [
            "1,2,3,4,5,6,7,8,9,10,"
          ]
        }
      ]
    },
    {
      "cell_type": "code",
      "source": [
        "# Q 12 Write a python programme to find the sum of all the even no. between 1 to 50.\n",
        "\n",
        "sum = 0\n",
        "for i in range(1,51):\n",
        "  if (i%2==0):\n",
        "    sum = sum+i\n",
        "print(\"sum of all the even no. between 1 to 50:\",sum)"
      ],
      "metadata": {
        "colab": {
          "base_uri": "https://localhost:8080/"
        },
        "id": "synqyL5z9wIz",
        "outputId": "4aa7b6b5-3ed4-480d-9bb5-ccd684be22e3"
      },
      "execution_count": 31,
      "outputs": [
        {
          "output_type": "stream",
          "name": "stdout",
          "text": [
            "sum of all the even no. between 1 to 50: 650\n"
          ]
        }
      ]
    },
    {
      "cell_type": "code",
      "source": [
        "# Q 13 Write a python programme to reverse a string using while loop.\n",
        "\n",
        "x = \"pwskills\"\n",
        "i = -1\n",
        "while (i>=-len(x)):\n",
        "  print(x[i],end = \"\")\n",
        "  i = i-1"
      ],
      "metadata": {
        "colab": {
          "base_uri": "https://localhost:8080/"
        },
        "id": "CE6Ge7cy9wMl",
        "outputId": "c5ce1c74-af8c-42b3-bfcb-b93ca28719c0"
      },
      "execution_count": 32,
      "outputs": [
        {
          "output_type": "stream",
          "name": "stdout",
          "text": [
            "sllikswp"
          ]
        }
      ]
    },
    {
      "cell_type": "code",
      "source": [
        "# Q 14 Write a python programe to calculate the factorial of a no. provided by the user using while loop.\n",
        "\n",
        "x = int(input(\"enter the number:\"))\n",
        "fact = 1\n",
        "while (x>0):\n",
        "  fact = fact*x\n",
        "  x = x-1\n",
        "print(\"factorial of the number:\",fact)"
      ],
      "metadata": {
        "colab": {
          "base_uri": "https://localhost:8080/"
        },
        "id": "MXyfryWq9wQA",
        "outputId": "264cec50-3466-41c5-be6a-12372f3da5f7"
      },
      "execution_count": 34,
      "outputs": [
        {
          "output_type": "stream",
          "name": "stdout",
          "text": [
            "enter the number:10\n",
            "factorial of the number: 3628800\n"
          ]
        }
      ]
    },
    {
      "cell_type": "code",
      "source": [],
      "metadata": {
        "id": "tu9XmICI9wTp"
      },
      "execution_count": null,
      "outputs": []
    }
  ]
}